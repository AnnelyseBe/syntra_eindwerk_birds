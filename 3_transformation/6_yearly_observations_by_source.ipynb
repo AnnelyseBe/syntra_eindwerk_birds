{
 "cells": [
  {
   "cell_type": "markdown",
   "metadata": {},
   "source": [
    "# Yearly sources\n",
    "\n",
    "Uit welke bronnen haalt waarnemingen.be zijn informatie.\n",
    "\n"
   ]
  },
  {
   "cell_type": "code",
   "execution_count": 3,
   "metadata": {},
   "outputs": [],
   "source": [
    "import pandas as pd\n",
    "\n",
    "# set the max columns to none\n",
    "pd.set_option('display.max_columns', None)\n",
    "# set the max columns to none\n",
    "pd.set_option('display.max_rows', None)"
   ]
  },
  {
   "cell_type": "markdown",
   "metadata": {},
   "source": [
    "## Load clean or gold data"
   ]
  },
  {
   "cell_type": "code",
   "execution_count": 4,
   "metadata": {},
   "outputs": [],
   "source": [
    "boomklever = f'../3_transformation/gold/observations_bk.parquet'\n",
    "halsbandparkiet = f'../3_transformation/gold/observations_hp.parquet'\n",
    "\n",
    "df_boomklever = pd.read_parquet(boomklever, engine=\"pyarrow\")\n",
    "df_halsbandparkiet = pd.read_parquet(halsbandparkiet, engine=\"pyarrow\")"
   ]
  },
  {
   "cell_type": "markdown",
   "metadata": {},
   "source": [
    "## Merge data and group by source and year"
   ]
  },
  {
   "cell_type": "code",
   "execution_count": 5,
   "metadata": {},
   "outputs": [],
   "source": [
    "species = { \n",
    "        116 : {'afkorting' : 'hp', 'soort' : 'halsbandparkiet'}, \n",
    "        70 : {'afkorting' : 'bk', 'soort' : 'boomklever'}\n",
    "        }"
   ]
  },
  {
   "cell_type": "code",
   "execution_count": 6,
   "metadata": {},
   "outputs": [
    {
     "data": {
      "text/html": [
       "<div>\n",
       "<style scoped>\n",
       "    .dataframe tbody tr th:only-of-type {\n",
       "        vertical-align: middle;\n",
       "    }\n",
       "\n",
       "    .dataframe tbody tr th {\n",
       "        vertical-align: top;\n",
       "    }\n",
       "\n",
       "    .dataframe thead th {\n",
       "        text-align: right;\n",
       "    }\n",
       "</style>\n",
       "<table border=\"1\" class=\"dataframe\">\n",
       "  <thead>\n",
       "    <tr style=\"text-align: right;\">\n",
       "      <th></th>\n",
       "      <th>source</th>\n",
       "      <th>observation_count_hp</th>\n",
       "      <th>observation_count_bk</th>\n",
       "    </tr>\n",
       "    <tr>\n",
       "      <th>year</th>\n",
       "      <th></th>\n",
       "      <th></th>\n",
       "      <th></th>\n",
       "    </tr>\n",
       "  </thead>\n",
       "  <tbody>\n",
       "    <tr>\n",
       "      <th>2011</th>\n",
       "      <td>Gebiedsdekkend ingevoerd</td>\n",
       "      <td>9.0</td>\n",
       "      <td>44.0</td>\n",
       "    </tr>\n",
       "    <tr>\n",
       "      <th>2011</th>\n",
       "      <td>Meetnetten.be</td>\n",
       "      <td>2.0</td>\n",
       "      <td>0.0</td>\n",
       "    </tr>\n",
       "    <tr>\n",
       "      <th>2011</th>\n",
       "      <td>ObsMapp</td>\n",
       "      <td>5.0</td>\n",
       "      <td>22.0</td>\n",
       "    </tr>\n",
       "    <tr>\n",
       "      <th>2011</th>\n",
       "      <td>SOVON autoclustering module</td>\n",
       "      <td>0.0</td>\n",
       "      <td>110.0</td>\n",
       "    </tr>\n",
       "    <tr>\n",
       "      <th>2011</th>\n",
       "      <td>Site</td>\n",
       "      <td>13.0</td>\n",
       "      <td>31.0</td>\n",
       "    </tr>\n",
       "    <tr>\n",
       "      <th>2011</th>\n",
       "      <td>Webobs html5</td>\n",
       "      <td>1.0</td>\n",
       "      <td>5.0</td>\n",
       "    </tr>\n",
       "    <tr>\n",
       "      <th>2011</th>\n",
       "      <td>copied observation</td>\n",
       "      <td>0.0</td>\n",
       "      <td>26.0</td>\n",
       "    </tr>\n",
       "    <tr>\n",
       "      <th>2011</th>\n",
       "      <td>mobile pages</td>\n",
       "      <td>11.0</td>\n",
       "      <td>20.0</td>\n",
       "    </tr>\n",
       "    <tr>\n",
       "      <th>2011</th>\n",
       "      <td>onbekend</td>\n",
       "      <td>1451.0</td>\n",
       "      <td>5698.0</td>\n",
       "    </tr>\n",
       "    <tr>\n",
       "      <th>2011</th>\n",
       "      <td>via wnpda</td>\n",
       "      <td>12.0</td>\n",
       "      <td>728.0</td>\n",
       "    </tr>\n",
       "  </tbody>\n",
       "</table>\n",
       "</div>"
      ],
      "text/plain": [
       "                           source  observation_count_hp  observation_count_bk\n",
       "year                                                                         \n",
       "2011     Gebiedsdekkend ingevoerd                   9.0                  44.0\n",
       "2011                Meetnetten.be                   2.0                   0.0\n",
       "2011                      ObsMapp                   5.0                  22.0\n",
       "2011  SOVON autoclustering module                   0.0                 110.0\n",
       "2011                         Site                  13.0                  31.0\n",
       "2011                 Webobs html5                   1.0                   5.0\n",
       "2011           copied observation                   0.0                  26.0\n",
       "2011                 mobile pages                  11.0                  20.0\n",
       "2011                     onbekend                1451.0                5698.0\n",
       "2011                    via wnpda                  12.0                 728.0"
      ]
     },
     "execution_count": 6,
     "metadata": {},
     "output_type": "execute_result"
    }
   ],
   "source": [
    "def group_by_year_and_calculate_fields(df_species):\n",
    "    df_species[\"source\"] = df_species[\"source\"].fillna(\"onbekend\")\n",
    "    df_species[\"year\"] = df_species[\"date\"].dt.year \n",
    "    df_species_yearly = df_species.reset_index().groupby([\"year\", \"source\"]).agg({'observation_id': 'nunique'}).rename(columns={'observation_id': 'observation_count'})\n",
    "    return df_species_yearly\n",
    "    \n",
    "df_halsbandparkiet_yearly = group_by_year_and_calculate_fields(df_halsbandparkiet)\n",
    "df_boomklever_yearly = group_by_year_and_calculate_fields(df_boomklever)\n",
    "\n",
    "# merge the species dataframes\n",
    "df_observations_yearly = pd.merge(df_halsbandparkiet_yearly, df_boomklever_yearly, on=['year', 'source'], how='outer', suffixes=(\"_hp\", \"_bk\"))\n",
    "\n",
    "# fill NaN values with 0\n",
    "df_observations_yearly.fillna(0, inplace=True) # geen waarnemingen -> 0 ipv NaN\n",
    "df_observations_yearly.sort_index(ascending=True)\n",
    "df_observations_yearly.reset_index(inplace=True)\n",
    "df_observations_yearly.set_index(\"year\", inplace=True)\n",
    "df_observations_yearly[df_observations_yearly.index == 2011].head(10)\n",
    "\n"
   ]
  },
  {
   "cell_type": "markdown",
   "metadata": {},
   "source": [
    "## Write result to parquet-file in \"gold\" folder"
   ]
  },
  {
   "cell_type": "code",
   "execution_count": 7,
   "metadata": {},
   "outputs": [],
   "source": [
    "df_observations_yearly.to_parquet(f'./gold/yearly_sources.parquet', index=True, engine=\"pyarrow\")"
   ]
  }
 ],
 "metadata": {
  "kernelspec": {
   "display_name": "Python 3",
   "language": "python",
   "name": "python3"
  },
  "language_info": {
   "codemirror_mode": {
    "name": "ipython",
    "version": 3
   },
   "file_extension": ".py",
   "mimetype": "text/x-python",
   "name": "python",
   "nbconvert_exporter": "python",
   "pygments_lexer": "ipython3",
   "version": "3.12.10"
  }
 },
 "nbformat": 4,
 "nbformat_minor": 2
}
