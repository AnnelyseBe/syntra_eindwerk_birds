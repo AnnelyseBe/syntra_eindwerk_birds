{
 "cells": [
  {
   "cell_type": "markdown",
   "metadata": {},
   "source": [
    "# Scaling\n",
    "In onze statistische analyse verzamelen we jaarlijks meer gegevens doordat steeds meer mensen hun waarnemingen loggen op waarnemingen.be. We kennen het totale aantal waarnemingen van vogels. We gaan ervan uit dat het aandeel van elke vogelsoort ten opzichte van elkaar constant blijft als de populatie constant blijft. Als het aandeel van een bepaalde vogelsoort stijgt, nemen we aan dat er daadwerkelijk meer vogels van die soort voorkomen."
   ]
  },
  {
   "cell_type": "code",
   "execution_count": null,
   "metadata": {
    "vscode": {
     "languageId": "plaintext"
    }
   },
   "outputs": [],
   "source": [
    "df_year_count_cleaned.head()"
   ]
  },
  {
   "cell_type": "code",
   "execution_count": null,
   "metadata": {},
   "outputs": [],
   "source": [
    "# calculate scale_factor\n",
    "observation_count_2024 = df_year_count_cleaned[df_year_count_cleaned['year'] == 2024]['observation_count'].mean()\n",
    "individu_count_2024 = df_year_count_cleaned[df_year_count_cleaned['year'] == 2024]['individu_count'].mean()\n",
    "\n",
    "df_year_count_cleaned['scale_factor_observations'] = df_year_count_cleaned.apply(lambda x: observation_count_2024 / x['observation_count'], axis=1)\n",
    "df_year_count_cleaned['scale_factor_individus'] = df_year_count_cleaned.apply(lambda x: individu_count_2024 / x['individu_count'], axis=1)\n",
    "\n",
    "\n",
    "# merge with yearly observation count\n",
    "df_observations_scaled = df_observations_cleaned.copy()\n",
    "df_observations_scaled['year_observation'] = df_observations_scaled['date'].dt.year\n",
    "df_observations_scaled = df_observations_scaled.merge(df_year_count_cleaned, how='left', left_on='year_observation', right_on='year')\n",
    "\n",
    "# # observations and amount in 2024\n",
    "# observation_count_2024 = df_observations_scaled[df_observations_scaled['year_observation'] == 2024].shape[0]\n",
    "# observation_amount_2024 = df_observations_scaled[df_observations_scaled['year_observation'] == 2024]['amount'].sum()\n",
    "\n",
    "# print(f\"Observations in 2024: {observation_count_2024}\")\n",
    "# print(f\"Amount of observations in 2024: {observation_amount_2024}\")\n",
    "\n",
    "# scales amount of observations and individual observations\n",
    "df_observations_scaled['observations_scaled'] = df_observations_scaled.apply(lambda x: 1 * x['scale_factor_observations'], axis=1)\n",
    "df_observations_scaled['amount_scaled'] = df_observations_scaled.apply(lambda x: x['amount'] * x['scale_factor_observations'], axis=1)"
   ]
  }
 ],
 "metadata": {
  "language_info": {
   "name": "python"
  }
 },
 "nbformat": 4,
 "nbformat_minor": 2
}
