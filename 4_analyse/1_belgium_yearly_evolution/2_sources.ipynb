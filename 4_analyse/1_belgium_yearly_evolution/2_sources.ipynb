{
 "cells": [
  {
   "cell_type": "markdown",
   "metadata": {},
   "source": [
    "# Sources\n",
    "\n",
    "Van bronnen komt de informatie van waarnemingen.be?\n",
    "\n",
    "### Conclusie\n",
    "De laatste jaren is het merendeel van de waarnemingen afkomstig van \n",
    "- ObsMapp (de android applicatie van waarnemingen.be)\n",
    "- via de site\n",
    "- iObs (de apple applicatie)\n",
    "- Obsidentify (via beeldherkenning)\n",
    "\n",
    "Er zijn ook andere (kleinere) bronnen uit projecten bv. Dieren onder wielen (roadkills), Ebird import, Projectwaarnemingen, ....\n",
    "\n",
    "\n"
   ]
  },
  {
   "cell_type": "code",
   "execution_count": 9,
   "metadata": {},
   "outputs": [],
   "source": [
    "import plotly.express as px\n",
    "import pandas as pd"
   ]
  },
  {
   "cell_type": "code",
   "execution_count": 10,
   "metadata": {},
   "outputs": [],
   "source": [
    "df_sources_yearly = pd.read_parquet(f'../../3_transformation/gold/yearly_sources.parquet', engine=\"pyarrow\")\n",
    "df_sources_yearly.sort_values(by=['observation_count_bk', 'year'], inplace=True)"
   ]
  },
  {
   "cell_type": "code",
   "execution_count": 11,
   "metadata": {},
   "outputs": [],
   "source": [
    "title = \"Jaarlijkse bronnen van de waarnemingen van de halsbandparkiet\"\n",
    "fig = px.bar(df_sources_yearly, x=df_sources_yearly.index, y=\"observation_count_hp\", \n",
    "             color=\"source\",\n",
    "             title=title,\n",
    "             labels={\"observation_count_hp\": \"Aantal observaties\", \"year\": \"Jaar\"},\n",
    "             color_discrete_map={\n",
    "                 \"Site\": \"#1f77b4\", # blauw\n",
    "                 \"iObs\": \"#ff7f0e\", # oranje\n",
    "                 \"ObsMapp\": \"#2ca02c\", # groen\n",
    "                 \"onbekend\": \"#d3d3d3\" # lichtgrijs\n",
    "             },\n",
    "             category_orders={\"source\": [\"ObsMapp\", \"Site\", \"iObs\",\"ObsIdentify\", \"onbekend\", \"vogelatlas be\"]}\n",
    "             )\n",
    "# fig.show()\n",
    "fig.write_html(f\"plots/{title}.html\")\n"
   ]
  },
  {
   "cell_type": "code",
   "execution_count": 12,
   "metadata": {},
   "outputs": [],
   "source": [
    "title = \"Jaarlijkse bronnen van de waarnemingen van de boomklever\"\n",
    "\n",
    "fig = px.bar(df_sources_yearly, x=df_sources_yearly.index, y=\"observation_count_bk\", color=\"source\",\n",
    "             title=title,\n",
    "             labels={\"observation_count_bk\": \"Aantal observaties\", \"year\": \"Jaar\"},\n",
    "             color_discrete_map={\n",
    "                 \"Site\": \"#1f77b4\", # blauw\n",
    "                 \"iObs\": \"#ff7f0e\", # oranje\n",
    "                 \"ObsMapp\": \"#2ca02c\", # groen\n",
    "                 \"onbekend\": \"#d3d3d3\" # lichtgrijs\n",
    "             },\n",
    "             category_orders={\"source\": [\"ObsMapp\", \"Site\", \"iObs\",\"ObsIdentify\", \"vogelatlas be\"]}\n",
    "             )\n",
    "# fig.show()\n",
    "fig.write_html(f\"plots/{title}.html\")\n"
   ]
  }
 ],
 "metadata": {
  "kernelspec": {
   "display_name": "Python 3",
   "language": "python",
   "name": "python3"
  },
  "language_info": {
   "codemirror_mode": {
    "name": "ipython",
    "version": 3
   },
   "file_extension": ".py",
   "mimetype": "text/x-python",
   "name": "python",
   "nbconvert_exporter": "python",
   "pygments_lexer": "ipython3",
   "version": "3.12.10"
  }
 },
 "nbformat": 4,
 "nbformat_minor": 2
}
