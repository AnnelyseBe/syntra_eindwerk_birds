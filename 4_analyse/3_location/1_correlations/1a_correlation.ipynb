{
 "cells": [
  {
   "cell_type": "markdown",
   "metadata": {},
   "source": [
    "# Correlation\n",
    "\n"
   ]
  },
  {
   "cell_type": "code",
   "execution_count": 24,
   "metadata": {},
   "outputs": [],
   "source": [
    "import pandas as pd\n",
    "import plotly.express as px"
   ]
  },
  {
   "cell_type": "code",
   "execution_count": 25,
   "metadata": {},
   "outputs": [],
   "source": [
    "to_plot_year = 2024\n",
    "percentile = 0.9\n",
    "\n",
    "labels = {\"observations_growth_5yr_%_hp\": \"Groei halsbandparkiet (%)\",\n",
    "          \"observations_growth_5yr_%_bk\": \"Groei boomklever (%)\",\n",
    "          \"observers_per_km2_hp\": \"Waarnemers halsbandparkiet per km2\",\n",
    "          \"observers_per_km2_bk\": \"Waarnemers boomklever per km2\",\n",
    "          \"observations_per_km2_hp\": \"Waarnemingen halsbandparkiet per km2\",\n",
    "          \"observations_per_km2_bk\": \"Waarnemingen boomklever per km2\",\n",
    "          \"location_name\": \"Locatie\"}\n",
    "hover_data=['location_name', 'observers_per_km2_hp', 'observations_growth_5yr_%_hp', 'observations_growth_5yr_%_bk', 'observers_per_km2_bk']\n",
    "size=\"observers_per_km2_hp\"\n",
    "color=\"observers_per_km2_hp\""
   ]
  },
  {
   "cell_type": "code",
   "execution_count": 26,
   "metadata": {},
   "outputs": [
    {
     "name": "stdout",
     "output_type": "stream",
     "text": [
      "Number of locations in 2024: 13966\n",
      "Number of locations in 2024 for percentile above 0.9: 95\n"
     ]
    }
   ],
   "source": [
    "df_bylocation = pd.read_parquet(f'../../../3_transformation/gold/yearly_observations_by_location.parquet', engine=\"pyarrow\")\n",
    "df_bylocation_2024 = df_bylocation[df_bylocation[\"year\"] == to_plot_year].copy()\n",
    "\n",
    "\n",
    "correlation_set = df_bylocation_2024.copy()\n",
    "\n",
    "print(f\"Number of locations in {to_plot_year}: {correlation_set.shape[0]}\")\n",
    "correlation_set = correlation_set[correlation_set[\"observation_count_hp\"] > df_bylocation_2024['observation_count_hp'].quantile(percentile)].copy()\n",
    "correlation_set = correlation_set[correlation_set['observation_count_bk'] > df_bylocation_2024['observation_count_bk'].quantile(percentile)].copy()\n",
    "correlation_set = correlation_set[correlation_set['observations_per_km2_hp'] > df_bylocation_2024['observations_per_km2_hp'].quantile(percentile)].copy()\n",
    "correlation_set = correlation_set[correlation_set['observations_per_km2_bk'] > df_bylocation_2024['observations_per_km2_bk'].quantile(percentile)].copy()\n",
    "correlation_set = correlation_set[correlation_set['observers_per_km2_hp'] > df_bylocation_2024['observers_per_km2_hp'].quantile(percentile)].copy()\n",
    "correlation_set = correlation_set[correlation_set['observers_per_km2_bk'] > df_bylocation_2024['observers_per_km2_bk'].quantile(percentile)].copy()\n",
    "correlation_set = correlation_set[correlation_set['observers_count_hp'] > df_bylocation_2024['observers_count_hp'].quantile(percentile)].copy()\n",
    "correlation_set = correlation_set[correlation_set['observers_count_bk'] > df_bylocation_2024['observers_count_bk'].quantile(percentile)].copy()\n",
    "correlation_set['observations_growth_5yr_%_hp'] = correlation_set['observations_growth_5yr_%_hp'].clip(lower=-100, upper=100)\n",
    "correlation_set['observations_growth_5yr_%_bk'] = correlation_set['observations_growth_5yr_%_bk'].clip(lower=-100, upper=100)\n",
    "print(f\"Number of locations in {to_plot_year} for percentile above {percentile}: {correlation_set.shape[0]}\")"
   ]
  },
  {
   "cell_type": "markdown",
   "metadata": {},
   "source": [
    "## Correlatie tussen groei van de boomklever en van de halsbandparkiet"
   ]
  },
  {
   "cell_type": "code",
   "execution_count": 27,
   "metadata": {},
   "outputs": [
    {
     "name": "stdout",
     "output_type": "stream",
     "text": [
      "Correlatie coëfficient: 0.6313269928440254\n"
     ]
    }
   ],
   "source": [
    "x = \"observations_growth_5yr_%_hp\"\n",
    "y = \"observations_growth_5yr_%_bk\"\n",
    "\n",
    "title = f'{labels[y]} ifv {labels[x].lower()}'\n",
    "subtitle = f'Jaar {to_plot_year} - Voorkomen halsbandparkieten en boomklevers boven percentiel: {percentile}'\n",
    "\n",
    "# Calculate Pearson correlation coefficient\n",
    "corr = correlation_set[x].corr(correlation_set[y])\n",
    "print(f\"Correlatie coëfficient: {corr}\")\n",
    "\n",
    "fig = px.scatter(correlation_set, x=x, y=y, color=color, size=size, labels=labels, hover_data=hover_data, title=f'{title} (correlatiecoëfficient = {corr:.2f})', subtitle = subtitle)\n",
    "\n",
    "# Tekstgrootte aanpassen\n",
    "fig.update_layout(\n",
    "    title_font=dict(size=22),     # Titelgrootte\n",
    "    xaxis_title_font=dict(size=18),  # X-as titel\n",
    "    yaxis_title_font=dict(size=18),  # Y-as titel\n",
    "    font=dict(size=14),           # Algemene fontgrootte (bijv. tick labels)\n",
    ")\n",
    "\n",
    "fig.write_html(f\"plots/{to_plot_year} - P{percentile}: {title}.html\")\n",
    "# fig.show()"
   ]
  },
  {
   "cell_type": "markdown",
   "metadata": {},
   "source": [
    "## Correlatie tussen waarnemingen/km2 van de halsbandparkiet en de groei van de boomklever"
   ]
  },
  {
   "cell_type": "code",
   "execution_count": 28,
   "metadata": {},
   "outputs": [
    {
     "name": "stdout",
     "output_type": "stream",
     "text": [
      "Correlatie coëfficient: -0.14722436236824799\n"
     ]
    }
   ],
   "source": [
    "x = \"observations_per_km2_hp\"\n",
    "y = \"observations_growth_5yr_%_bk\"\n",
    "\n",
    "title = f'{labels[y]} ifv {labels[x].lower()}'\n",
    "subtitle = f'Jaar {to_plot_year} - Voorkomen halsbandparkieten en boomklevers boven percentiel: {percentile}'\n",
    "\n",
    "# Calculate Pearson correlation coefficient\n",
    "corr = correlation_set[x].corr(correlation_set[y])\n",
    "print(f\"Correlatie coëfficient: {corr}\")\n",
    "\n",
    "fig = px.scatter(correlation_set, x=x, y=y, color=color, size=size, labels=labels, hover_data=hover_data, title=f'{title} (correlatiecoëfficient = {corr:.2f})', subtitle = subtitle)\n",
    "\n",
    "# Tekstgrootte aanpassen\n",
    "fig.update_layout(\n",
    "    title_font=dict(size=22),     # Titelgrootte\n",
    "    xaxis_title_font=dict(size=18),  # X-as titel\n",
    "    yaxis_title_font=dict(size=18),  # Y-as titel\n",
    "    font=dict(size=14),           # Algemene fontgrootte (bijv. tick labels)\n",
    ")\n",
    "\n",
    "fig.write_html(f\"plots/{to_plot_year} - P{percentile}: {title}.html\")\n",
    "# fig.show()"
   ]
  },
  {
   "cell_type": "markdown",
   "metadata": {},
   "source": [
    "## Correlatie tussen waarnemers/km2 van de halsbandparkiet en de groei van de boomklever"
   ]
  },
  {
   "cell_type": "code",
   "execution_count": 29,
   "metadata": {},
   "outputs": [
    {
     "name": "stdout",
     "output_type": "stream",
     "text": [
      "Correlatie coëfficient: -0.2186312073323372\n"
     ]
    }
   ],
   "source": [
    "x = \"observers_per_km2_hp\"\n",
    "y = \"observations_growth_5yr_%_bk\"\n",
    "\n",
    "title = f'{labels[y]} ifv {labels[x].lower()}'\n",
    "subtitle = f'Jaar {to_plot_year} - Voorkomen halsbandparkieten en boomklevers boven percentiel: {percentile}'\n",
    "\n",
    "# Calculate Pearson correlation coefficient\n",
    "corr = correlation_set[x].corr(correlation_set[y])\n",
    "print(f\"Correlatie coëfficient: {corr}\")\n",
    "\n",
    "fig = px.scatter(correlation_set, x=x, y=y, color=color, size=size, labels=labels, hover_data=hover_data, title=f'{title} (correlatiecoëfficient = {corr:.2f})', subtitle = subtitle)\n",
    "\n",
    "# Tekstgrootte aanpassen\n",
    "fig.update_layout(\n",
    "    title_font=dict(size=22),     # Titelgrootte\n",
    "    xaxis_title_font=dict(size=18),  # X-as titel\n",
    "    yaxis_title_font=dict(size=18),  # Y-as titel\n",
    "    font=dict(size=14),           # Algemene fontgrootte (bijv. tick labels)\n",
    ")\n",
    "\n",
    "fig.write_html(f\"plots/{to_plot_year} - P{percentile}: {title}.html\")\n",
    "# fig.show()\n",
    "\n"
   ]
  },
  {
   "cell_type": "markdown",
   "metadata": {},
   "source": [
    "## Correlatie tussen waarnemers/km2 van de halsbandparkiet en de boomklever"
   ]
  },
  {
   "cell_type": "code",
   "execution_count": 30,
   "metadata": {},
   "outputs": [
    {
     "name": "stdout",
     "output_type": "stream",
     "text": [
      "Correlatie coëfficient: 0.8774244602872946\n"
     ]
    }
   ],
   "source": [
    "x = \"observers_per_km2_hp\"\n",
    "y = \"observers_per_km2_bk\"\n",
    "\n",
    "title = f'{labels[y]} ifv {labels[x].lower()}'\n",
    "subtitle = f'Jaar {to_plot_year} - Voorkomen halsbandparkieten en boomklevers boven percentiel: {percentile}'\n",
    "\n",
    "# Calculate Pearson correlation coefficient\n",
    "corr = correlation_set[x].corr(correlation_set[y])\n",
    "print(f\"Correlatie coëfficient: {corr}\")\n",
    "\n",
    "fig = px.scatter(correlation_set, x=x, y=y, color=color, size=size, labels=labels, hover_data=hover_data, title=f'{title} (correlatiecoëfficient = {corr:.2f})', subtitle = subtitle)\n",
    "\n",
    "# Tekstgrootte aanpassen\n",
    "fig.update_layout(\n",
    "    title_font=dict(size=22),     # Titelgrootte\n",
    "    xaxis_title_font=dict(size=18),  # X-as titel\n",
    "    yaxis_title_font=dict(size=18),  # Y-as titel\n",
    "    font=dict(size=14),           # Algemene fontgrootte (bijv. tick labels)\n",
    ")\n",
    "\n",
    "fig.write_html(f\"plots/{to_plot_year} - P{percentile}: {title}.html\")\n",
    "# fig.show()"
   ]
  }
 ],
 "metadata": {
  "kernelspec": {
   "display_name": "Python 3",
   "language": "python",
   "name": "python3"
  },
  "language_info": {
   "codemirror_mode": {
    "name": "ipython",
    "version": 3
   },
   "file_extension": ".py",
   "mimetype": "text/x-python",
   "name": "python",
   "nbconvert_exporter": "python",
   "pygments_lexer": "ipython3",
   "version": "3.12.10"
  }
 },
 "nbformat": 4,
 "nbformat_minor": 2
}
